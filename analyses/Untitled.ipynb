{
 "cells": [
  {
   "cell_type": "code",
   "execution_count": null,
   "metadata": {},
   "outputs": [],
   "source": [
    "import os\n",
    "import glob\n",
    "import pandas as pd\n",
    "\n",
    "for task in [\"MID\", \"SST\"]:\n",
    "    datadir = task + 'data'\n",
    "    os.chdir(datadir)\n",
    "\n",
    "    task_fname = '*' + task + '_Scanner_*.{}'\n",
    "    \n",
    "fnames = [i for i in glob.glob(task_f.format('csv'))]\n",
    "\n",
    "#combine all files in the list\n",
    "merged_csv = pd.concat([pd.read_csv(f) for f in fnames ])\n",
    "\n",
    "#export to csv\n",
    "merged_csv.to_csv( \"merged_csv.csv\", index=False, encoding='utf-8-sig')"
   ]
  }
 ],
 "metadata": {
  "kernelspec": {
   "display_name": "Python 3",
   "language": "python",
   "name": "python3"
  },
  "language_info": {
   "codemirror_mode": {
    "name": "ipython",
    "version": 3
   },
   "file_extension": ".py",
   "mimetype": "text/x-python",
   "name": "python",
   "nbconvert_exporter": "python",
   "pygments_lexer": "ipython3",
   "version": "3.7.1"
  },
  "toc": {
   "base_numbering": 1,
   "nav_menu": {},
   "number_sections": true,
   "sideBar": true,
   "skip_h1_title": false,
   "title_cell": "Table of Contents",
   "title_sidebar": "Contents",
   "toc_cell": false,
   "toc_position": {},
   "toc_section_display": true,
   "toc_window_display": false
  }
 },
 "nbformat": 4,
 "nbformat_minor": 2
}
