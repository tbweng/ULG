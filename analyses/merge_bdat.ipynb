{
 "cells": [
  {
   "cell_type": "code",
   "execution_count": 38,
   "metadata": {},
   "outputs": [
    {
     "name": "stdout",
     "output_type": "stream",
     "text": [
      "Index(['Condition', 'FixationDur', 'trials.thisRepN', 'trials.thisTrialN',\n",
      "       'trials.thisN', 'trials.thisIndex', 'TrialOrder', 'cueImage.started',\n",
      "       'cueImage.stopped', 'FixationDur.1', 'fixation.started',\n",
      "       'fixation.stopped', 'fixationResp.keys', 'fixationResp.started',\n",
      "       'fixationResp.stopped', 'feedbackDur', 'Trial counter',\n",
      "       'Target.started', 'Target.stopped', 'probeResp.keys', 'probeResp.corr',\n",
      "       'probeResp.started', 'probeResp.stopped', 'msg', 'TrackEarnings',\n",
      "       'TrialType', 'NonNeutralTrialsNum', 'probeDur', 'percentacc_total',\n",
      "       'meanrt', 'UserAcc', 'Acc', 'AdjTrial', 'AdjTrialInc',\n",
      "       'feedback_resp.keys', 'feedback_resp.rt', 'OverallRT', 'probeResp.rt',\n",
      "       'AdjRTmsg', 'fixationResp.rt', 'participant', 'prac_or_scan', 'run',\n",
      "       'date', 'expName', 'psychopyVersion', 'frameRate', 'Unnamed: 47',\n",
      "       'Unnamed: 46', 'Unnamed: 44', 'Unnamed: 45', 'Unnamed: 7',\n",
      "       'Unnamed: 43'],\n",
      "      dtype='object')\n",
      "Index(['trial_type', 'arrow_1', 'arrow_2', 'corrAns', 'jitter',\n",
      "       'run_end_fixation', 'trials.thisRepN', 'trials.thisTrialN',\n",
      "       'trials.thisN', 'trials.thisIndex', 'randomized TrialOrder',\n",
      "       'key_response.keys', 'key_response.corr', 'key_response.rt',\n",
      "       'trial_t.routineEndVal', 'ss_delay', 'iti_duration', 'SOA',\n",
      "       'participant', 'prac_or_scan', 'handedness', 'run', 'date', 'expName',\n",
      "       'psychopyVersion', 'frameRate', 'Unnamed: 26', 'Unnamed: 8'],\n",
      "      dtype='object')\n"
     ]
    }
   ],
   "source": [
    "import os\n",
    "import glob\n",
    "import pandas as pd\n",
    "\n",
    "scriptdir = '/Users/tbw665/Box/CNL_LabFiles/Longitudinal Study/ULG/fMRI-tasks'\n",
    "\n",
    "for task in [\"MID\", \"SST\"]:\n",
    "    \n",
    "    datadir = os.path.join(scriptdir, task, 'data')\n",
    "    os.chdir(datadir)\n",
    "    \n",
    "    task_fname = '*' + task + '_Scanner_*.{}'\n",
    "    \n",
    "    fnames = [i for i in glob.glob(task_fname.format('csv'))]\n",
    "    \n",
    "    #combine all files in the list\n",
    "    merged_csv = pd.concat([pd.read_csv(f) for f in fnames ], sort=False)\n",
    "    \n",
    "    li = []\n",
    "\n",
    "    for filename in fnames:\n",
    "        df = pd.read_csv(filename, index_col=None, header=0)\n",
    "        li.append(df)\n",
    "\n",
    "    df_concat = pd.concat(li, axis=0, ignore_index=True, sort=False)\n",
    "   \n",
    "    print(df_concat.columns)\n",
    "  \n",
    "    #export to csv\n",
    "    merged_fname = task + '_merged_bdat.csv'\n",
    "    merged_csv.to_csv( merged_fname, index=False, encoding='utf-8-sig')\n"
   ]
  },
  {
   "cell_type": "code",
   "execution_count": 23,
   "metadata": {},
   "outputs": [
    {
     "data": {
      "text/plain": [
       "'/Users/tbw665/Box/CNL_LabFiles/Longitudinal Study/ULG/fMRI-tasks/SST/data'"
      ]
     },
     "execution_count": 23,
     "metadata": {},
     "output_type": "execute_result"
    }
   ],
   "source": [
    "os.path.abspath('')"
   ]
  },
  {
   "cell_type": "code",
   "execution_count": null,
   "metadata": {},
   "outputs": [],
   "source": []
  }
 ],
 "metadata": {
  "kernelspec": {
   "display_name": "Python 3",
   "language": "python",
   "name": "python3"
  },
  "language_info": {
   "codemirror_mode": {
    "name": "ipython",
    "version": 3
   },
   "file_extension": ".py",
   "mimetype": "text/x-python",
   "name": "python",
   "nbconvert_exporter": "python",
   "pygments_lexer": "ipython3",
   "version": "3.7.1"
  },
  "toc": {
   "base_numbering": 1,
   "nav_menu": {},
   "number_sections": true,
   "sideBar": true,
   "skip_h1_title": false,
   "title_cell": "Table of Contents",
   "title_sidebar": "Contents",
   "toc_cell": false,
   "toc_position": {},
   "toc_section_display": true,
   "toc_window_display": false
  }
 },
 "nbformat": 4,
 "nbformat_minor": 2
}
